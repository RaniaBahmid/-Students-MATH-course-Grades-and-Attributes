{
  "nbformat": 4,
  "nbformat_minor": 0,
  "metadata": {
    "colab": {
      "name": "RaniaBahmid_G210068400_1415.ipynb",
      "provenance": [],
      "collapsed_sections": [
        "_DvhzGwA6Rne",
        "Fa36Wxbt_md2",
        "5_kuCULnFCKV"
      ]
    },
    "kernelspec": {
      "name": "python3",
      "display_name": "Python 3"
    },
    "language_info": {
      "name": "python"
    }
  },
  "cells": [
    {
      "cell_type": "markdown",
      "metadata": {
        "id": "Oe0JqNAW7Ows"
      },
      "source": [
        "**Advanced Python for Data Science**\n",
        "\n",
        " Students MATH course Grades and Attributes\n",
        "\n",
        "Rania Bahmid\n",
        "\n"
      ]
    },
    {
      "cell_type": "markdown",
      "metadata": {
        "id": "_DvhzGwA6Rne"
      },
      "source": [
        "##**Task1**"
      ]
    },
    {
      "cell_type": "code",
      "metadata": {
        "id": "ejsaMpvh7CTr"
      },
      "source": [
        "# all the required libraries \n",
        "#to read the data\n",
        "import pandas as pd\n",
        "import numpy as np\n",
        "#data visualization packagess\n",
        "import seaborn as sns\n",
        "import matplotlib.pyplot as plt\n",
        "#Library for Machine Learning\n",
        "from sklearn.preprocessing import LabelEncoder\n",
        "from sklearn.model_selection import train_test_split\n",
        "from sklearn.linear_model import LinearRegression"
      ],
      "execution_count": 1,
      "outputs": []
    },
    {
      "cell_type": "markdown",
      "metadata": {
        "id": "UJX0bXuw87WT"
      },
      "source": [
        "**1.1 load the dataset**"
      ]
    },
    {
      "cell_type": "code",
      "metadata": {
        "id": "cJv1331X6WlH"
      },
      "source": [
        "#convert xlsx to csv \n",
        "#Read and store content of an excel file\n",
        "read_file = pd.read_excel (\"/content/student-mat.xlsx\")\n",
        "#Write the dataframe object into csv file\n",
        "read_file.to_csv(\"/content/student-mat.csv\",index = True,header=1)\n",
        "#read csv file and convert into a dataframe object\n",
        "df = pd.DataFrame(pd.read_csv(\"/content/student-mat.csv\"))\n",
        "#show the dataframe\n",
        "df"
      ],
      "execution_count": null,
      "outputs": []
    },
    {
      "cell_type": "markdown",
      "metadata": {
        "id": "UAh5CY0o9USH"
      },
      "source": [
        "***1.2 Explore the dataset***"
      ]
    },
    {
      "cell_type": "code",
      "metadata": {
        "id": "CkS8vQx-8uNm"
      },
      "source": [
        "print (\"Explore the dataset\")\n",
        "#check the column names\n",
        "print(\" check the column names: \\n\",df.columns)\n",
        "#check the head of dataset\n",
        "print(\" check the first 5 rows in dataset: \\n\",df.head())\n",
        "#check number of elements\n",
        "print(\" check number of elements: \\n\",df.size)\n",
        "#check rows and clumns number\n",
        "#number of records,number of features \n",
        "print(\"check rows and clumns number: \\n\",df.info())\n",
        "#features types\n",
        "print(\"check features types:\\n\",df.dtypes)"
      ],
      "execution_count": null,
      "outputs": []
    },
    {
      "cell_type": "markdown",
      "metadata": {
        "id": "tfch5mrd9n_N"
      },
      "source": [
        "**1.3 preprocess and cleaning**"
      ]
    },
    {
      "cell_type": "code",
      "metadata": {
        "id": "4WjwdyvE9mFG"
      },
      "source": [
        "print (\"Inspect the dataset and perform data cleaning \")\n",
        "#Remove duplicate records \n",
        "print(\"Check Count duplicate: \\n\",df.duplicated().sum())\n",
        "#fix missing data\n",
        "print (\"check null values: \\n\", df.isnull().sum())\n",
        "plt.figure(figsize=(4,4))\n",
        "sns.heatmap(df.isnull())\n",
        "plt.title('Missing value in the dataset');\n",
        "#percentage of missing data\n",
        "no_of_columns = df.shape[0]\n",
        "percentage_of_missing_data = df.isnull().sum()/no_of_columns\n",
        "print(\"Check percentage of missing data :\\n\",percentage_of_missing_data)\n",
        "\n",
        "#No duplicated values nor missing data#"
      ],
      "execution_count": null,
      "outputs": []
    },
    {
      "cell_type": "markdown",
      "metadata": {
        "id": "Fa36Wxbt_md2"
      },
      "source": [
        "##**Task** **2** **&** **Task** **3**##\n"
      ]
    },
    {
      "cell_type": "markdown",
      "metadata": {
        "id": "ZTWCJI2EAL0r"
      },
      "source": [
        "**Descriptive statistics and EDA**\n",
        "\n",
        "**Visual representation**\n"
      ]
    },
    {
      "cell_type": "markdown",
      "metadata": {
        "id": "sFfAhoawIDM-"
      },
      "source": [
        "2.1 summarize the central tendency, dispersion, and shape of a dataset’s distribution\n"
      ]
    },
    {
      "cell_type": "code",
      "metadata": {
        "id": "GB3DpTysICo0"
      },
      "source": [
        "#descriptive statistics fo dataset\n",
        "print(\"Check descriptive statistics of dataset: \\n\",df.describe())\n",
        "#descriptive for some selected columns\n",
        "print(\"Check descriptive statistics for some selected culomns:\\n\")\n",
        "df[['G1','G2','G3','Medu','Fedu','studytime']].describe()"
      ],
      "execution_count": null,
      "outputs": []
    },
    {
      "cell_type": "code",
      "metadata": {
        "id": "sJRJ51H07UHM"
      },
      "source": [
        "#2.2 Hnadling outliers \n",
        "numeric_columns=df.loc[:].select_dtypes(include=np.number).columns.tolist()\n",
        "df.boxplot(column=numeric_columns,fontsize=10,rot=0,grid=False,figsize=(4,4),vert=False)\n",
        "# get IQR for each numeric column\n",
        "Q1 = df[numeric_columns].quantile(0.25)\n",
        "Q3 = df[numeric_columns].quantile(0.75)\n",
        "IQR = Q3 - Q1\n",
        "boxplot_min = Q1 - 1.5 * IQR\n",
        "boxplot_max = Q3 + 1.5 * IQR\n",
        "print('Q1:\\n',Q1)\n",
        "print('\\nQ3:\\n',Q3)\n",
        "print('\\nIQR:\\n',IQR)\n",
        "print('\\nMin:\\n',boxplot_min)\n",
        "print('\\nMax:\\n',boxplot_max)"
      ],
      "execution_count": null,
      "outputs": []
    },
    {
      "cell_type": "code",
      "metadata": {
        "id": "NyUUMJE8_UnZ",
        "colab": {
          "base_uri": "https://localhost:8080/"
        },
        "outputId": "c510f9de-e666-47c2-b63d-06771a0f46b8"
      },
      "source": [
        "# remove outlier\n",
        "non_outlier_data = df.copy()\n",
        "for x in numeric_columns:\n",
        "  filter_min = non_outlier_data[x]<boxplot_min[x]\n",
        "  filter_max = non_outlier_data[x]>boxplot_max[x]\n",
        "  non_outlier_data = non_outlier_data[~(\n",
        "    filter_min|filter_max\n",
        "    )]\n",
        "#check data after the outliers are removed\n",
        "#non_outlier_data.boxplot()\n",
        "non_outlier_data.shape"
      ],
      "execution_count": null,
      "outputs": [
        {
          "output_type": "execute_result",
          "data": {
            "text/plain": [
              "(241, 27)"
            ]
          },
          "metadata": {},
          "execution_count": 62
        }
      ]
    },
    {
      "cell_type": "markdown",
      "metadata": {
        "id": "XTD6scofEKxA"
      },
      "source": [
        "Q1:Compare students’ exam scores in different subjects (first, second, final)"
      ]
    },
    {
      "cell_type": "code",
      "metadata": {
        "id": "3g6bs0_yALjC"
      },
      "source": [
        "print(\"Check and compare students’ exam scores: \\n\",non_outlier_data[['G1','G2','G3']].mean())\n",
        "print(non_outlier_data[['G1','G2','G3']].mean().plot(kind='bar',figsize=(4,4),title='Students grades comparison ',ylabel=\"Average scores\",xlabel='Grade period'))\n",
        "#As aresult, there's simmiler match in all periods."
      ],
      "execution_count": null,
      "outputs": []
    },
    {
      "cell_type": "markdown",
      "metadata": {
        "id": "Ggg6i8sXEYuV"
      },
      "source": [
        "Q2:Who performed better students who have their parent's living together or students who have their parent's living apart? "
      ]
    },
    {
      "cell_type": "code",
      "metadata": {
        "id": "gwTio8jEEtWu"
      },
      "source": [
        "print(\"Check the students performance based on parent's cohabitation status :\\n \")\n",
        "print(non_outlier_data[['Pstatus','G1','G2', 'G3']].groupby(['Pstatus']).agg('mean'))\n",
        "non_outlier_data[['Pstatus','G1','G2', 'G3']].groupby(['Pstatus']).agg('mean').plot(kind='bar',figsize=(4,4),title='students performance based on parent cohabitation status',ylabel=\"Exam average score\",xlabel='parent cohabitation stat')\n",
        "#As a result, students who have their parent's living apart get higher scores#"
      ],
      "execution_count": null,
      "outputs": []
    },
    {
      "cell_type": "markdown",
      "metadata": {
        "id": "E5KWQddpEpWw"
      },
      "source": [
        "Q3: Does parental level of education affect their children exam scores? "
      ]
    },
    {
      "cell_type": "code",
      "metadata": {
        "id": "OAv27bMn_3lG"
      },
      "source": [
        "print(\"Check if parental level of education affect their children exam scores:\\n\")\n",
        "print(non_outlier_data[['Fedu','Medu','G3']].groupby(['Fedu','Medu']).agg('mean'))\n",
        "non_outlier_data[['Fedu','Medu','G3']].groupby(['Fedu','Medu']).agg('mean').plot(kind='bar', figsize=(4,4),title='Students Performance based on Parental level of education',ylabel=\"G3 average score\",xlabel='parent education')\n",
        "#As a result the figure shows that no relationship between studendts performnace and thier parents level edcucation eg in the 1st plot where the parents education mean was 02 where 0 is none and 1 is primary education 4th gradeThis groub performed the higher score in G3 compraing with the other groubs#"
      ],
      "execution_count": null,
      "outputs": []
    },
    {
      "cell_type": "markdown",
      "metadata": {
        "id": "ra1VGq8pEwOn"
      },
      "source": [
        "Q4:Does study time influence students’ performance?"
      ]
    },
    {
      "cell_type": "code",
      "metadata": {
        "id": "LHH9iBU4E1tL"
      },
      "source": [
        "print(\"Check if sudy time influence students’ performance:\\n\")\n",
        "print(non_outlier_data[['studytime','G3']].groupby(['studytime']).agg('mean'))\n",
        "non_outlier_data[['studytime','G3']].groupby(['studytime']).agg('mean').plot(kind='bar',figsize=(4,4),title='Students Performance',ylabel=\"G3 average score\",xlabel='Study Time')\n",
        "#As a result, groub 3(speend time on studying  5 to 10 hours)and groub 4( >10 hours) get highir scores in G3 than other groubs) #"
      ],
      "execution_count": null,
      "outputs": []
    },
    {
      "cell_type": "code",
      "metadata": {
        "id": "lWpmjUN6BhsG"
      },
      "source": [
        "# who performed male oe female\n",
        "sns.barplot(non_outlier_data['sex'],non_outlier_data['G3'])\n",
        "# does absences affects students performnace \n",
        "sns.lineplot(non_outlier_data['G3'],non_outlier_data['absences'])\n",
        "non_outlier_data[['absences','G3']].groupby(['absences']).agg('mean').plot(kind='bar',figsize=(4,4))"
      ],
      "execution_count": null,
      "outputs": []
    },
    {
      "cell_type": "markdown",
      "metadata": {
        "id": "5_kuCULnFCKV"
      },
      "source": [
        "#**TASK 4**"
      ]
    },
    {
      "cell_type": "markdown",
      "metadata": {
        "id": "isXpGqp2FT0L"
      },
      "source": [
        "**4.1 Build a machine learning model**"
      ]
    },
    {
      "cell_type": "markdown",
      "metadata": {
        "id": "4bQf3G5D-Fzk"
      },
      "source": [
        "4.1.1 Data prepration and Label Encoding"
      ]
    },
    {
      "cell_type": "code",
      "metadata": {
        "id": "-1RNRAD45ZPO"
      },
      "source": [
        "#Label Encoding\n",
        "# creating an encoder\n",
        "le = LabelEncoder()\n",
        "\n",
        "# label encoding for gender\n",
        "non_outlier_data['sex'] = le.fit_transform(non_outlier_data['sex'])\n",
        "# label encoding for family size\n",
        "non_outlier_data['famsize'] = le.fit_transform(non_outlier_data['famsize'])\n",
        "# label encoding for internet\n",
        "non_outlier_data['internet'] = le.fit_transform(non_outlier_data['internet'])\n",
        "# label encoding for higher\n",
        "non_outlier_data['higher'] = le.fit_transform(non_outlier_data['higher'])\n",
        "print(non_outlier_data['higher'],['internet'],['famsize'],['sex'])"
      ],
      "execution_count": null,
      "outputs": []
    },
    {
      "cell_type": "code",
      "metadata": {
        "id": "l0x2nX_0953o"
      },
      "source": [
        "#splitting dependent and independent variables\n",
        "#dependent variables: Math final grade  \n",
        "#independent variables:gender, family size, failures, higher, internet and absences \n",
        "x = non_outlier_data.drop(['G1','G2','school','age','address','Pstatus','Medu','Fedu','Mjob',\n",
        "             'Fjob','reason','guardian','traveltime','studytime','activities',\n",
        "             'nursery','famrel','freetime','health'],axis=1)\n",
        "y = non_outlier_data['G3']\n",
        "\n",
        "#splitting datat into  training and testing dataset\n",
        "x_train, x_test, y_train, y_test = train_test_split(x, y, test_size=0.25)\n",
        "\n",
        "#Check Training dimensions print\n",
        "print(\"Check Training Set dimensions:\",x_train.shape ) \n",
        "#Check Testing dimensions print\n",
        "print(\"Check Testing Set dimensions:\",x_test.shape)"
      ],
      "execution_count": null,
      "outputs": []
    },
    {
      "cell_type": "code",
      "metadata": {
        "id": "f_CDK4aqEcLx",
        "colab": {
          "base_uri": "https://localhost:8080/"
        },
        "outputId": "f22434ee-1a0a-426f-d21a-6610677ce82c"
      },
      "source": [
        "#Select and build the model \n",
        "#Apply LinearRegression model \n",
        "model = LinearRegression()\n",
        "#Training the modle\n",
        "model.fit(x_train,y_train)"
      ],
      "execution_count": null,
      "outputs": [
        {
          "output_type": "execute_result",
          "data": {
            "text/plain": [
              "LinearRegression()"
            ]
          },
          "metadata": {},
          "execution_count": 70
        }
      ]
    },
    {
      "cell_type": "markdown",
      "metadata": {
        "id": "xraa1QmRFeEW"
      },
      "source": [
        "**4.2 predict student’s exam performance in Math final grade**"
      ]
    },
    {
      "cell_type": "code",
      "source": [
        "#making predictions on live data that the model hasn’t seen before \n",
        "y_pred = model.predict(x_test)\n",
        "expected = y_test\n",
        "for p, e in zip(y_pred, expected):\n",
        "  print(f\"predicted: {p}, expected: {e}\")"
      ],
      "metadata": {
        "id": "pvGrybAnVUz9"
      },
      "execution_count": null,
      "outputs": []
    },
    {
      "cell_type": "markdown",
      "source": [
        "Calculate Metrics for validate the model "
      ],
      "metadata": {
        "id": "Ti4rnP9MZxYi"
      }
    },
    {
      "cell_type": "code",
      "source": [
        "#Accuracy Score \n",
        "print(\"Linear Regression model accurecy :\",f\"{model.score(x_test, y_test):.2%}\")"
      ],
      "metadata": {
        "id": "JQHwUcY9Yf6U"
      },
      "execution_count": null,
      "outputs": []
    },
    {
      "cell_type": "markdown",
      "source": [
        "Visualiz student’s exam performance prediction and expectaion"
      ],
      "metadata": {
        "id": "1t3fDtJvZ75y"
      }
    },
    {
      "cell_type": "code",
      "source": [
        "#Build dataframe for Visualizaion\n",
        "model_df = pd.DataFrame()\n",
        "model_df[\"expected\"] = y_test\n",
        "model_df[\"predicted\"] = y_pred"
      ],
      "metadata": {
        "id": "z6M_Vba-Z7oP"
      },
      "execution_count": null,
      "outputs": []
    },
    {
      "cell_type": "code",
      "source": [
        "#Visualizaion\n",
        "plt.figure(figsize=(4, 4))\n",
        "sns.scatterplot(data=model_df, x=\"expected\", y=\"predicted\",hue=\"predicted\", palette=\"cool\", legend=False, )\n",
        "p1 = min(model_df.expected.min(), model_df.predicted.min())\n",
        "p2 = max(model_df.expected.max(), model_df.predicted.max())\n",
        "\n",
        "plt.plot([p1, p2], [p1, p2])"
      ],
      "metadata": {
        "id": "KPOCBRWvECwh"
      },
      "execution_count": null,
      "outputs": []
    }
  ]
}